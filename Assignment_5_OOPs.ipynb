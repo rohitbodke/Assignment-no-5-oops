{
  "nbformat": 4,
  "nbformat_minor": 0,
  "metadata": {
    "colab": {
      "provenance": [],
      "authorship_tag": "ABX9TyMpzX4nahXVuRDnV1CCjHp/",
      "include_colab_link": true
    },
    "kernelspec": {
      "name": "python3",
      "display_name": "Python 3"
    },
    "language_info": {
      "name": "python"
    }
  },
  "cells": [
    {
      "cell_type": "markdown",
      "metadata": {
        "id": "view-in-github",
        "colab_type": "text"
      },
      "source": [
        "<a href=\"https://colab.research.google.com/github/rohitbodke/Assignment-no-5-oops/blob/main/Assignment_5_OOPs.ipynb\" target=\"_parent\"><img src=\"https://colab.research.google.com/assets/colab-badge.svg\" alt=\"Open In Colab\"/></a>"
      ]
    },
    {
      "cell_type": "code",
      "source": [],
      "metadata": {
        "id": "M23VSW9kOdfK"
      },
      "execution_count": null,
      "outputs": []
    },
    {
      "cell_type": "markdown",
      "source": [
        "#1: Square Numbers and Return Their Sum"
      ],
      "metadata": {
        "id": "tmPAMnlNOeBl"
      }
    },
    {
      "cell_type": "code",
      "execution_count": 1,
      "metadata": {
        "colab": {
          "base_uri": "https://localhost:8080/"
        },
        "id": "K79X7JBXFm2G",
        "outputId": "17f5fd96-9b22-417f-f29a-108c63f69de9"
      },
      "outputs": [
        {
          "output_type": "stream",
          "name": "stdout",
          "text": [
            "square of 1:1\n",
            "square of 3:3\n",
            "square of 5:5\n",
            "total sum 1:1\n",
            "1 9 25 35\n"
          ]
        }
      ],
      "source": [
        "class sum:\n",
        "\n",
        "\n",
        "\n",
        "    def __init__(self,x,y,z,a):\n",
        "\n",
        "        self.x = x*x\n",
        "\n",
        "        self.y = y*y\n",
        "\n",
        "        self.z = z*z\n",
        "\n",
        "        self.a=x*x+y*y+z*z\n",
        "\n",
        "\n",
        "\n",
        "    def calculate(self):\n",
        "\n",
        "      print(self.x,self.y,self.z,self.a)\n",
        "\n",
        "\n",
        "\n",
        "x = int(input('square of 1:'))\n",
        "\n",
        "y = int(input('square of 3:'))\n",
        "\n",
        "z =  int(input('square of 5:'))\n",
        "\n",
        "a = int(input('total sum 1:'))\n",
        "\n",
        "\n",
        "\n",
        "\n",
        "calculate_of = sum(x,y,z,a)\n",
        "\n",
        "calculate_of.calculate()"
      ]
    },
    {
      "cell_type": "code",
      "source": [],
      "metadata": {
        "id": "BNdeJjxwOaoX"
      },
      "execution_count": null,
      "outputs": []
    },
    {
      "cell_type": "markdown",
      "source": [
        "#2: Implement a Calculator Class"
      ],
      "metadata": {
        "id": "NdqjJ9W5O9vg"
      }
    },
    {
      "cell_type": "code",
      "source": [
        "class calculator:\n",
        "  def add(x, y):\n",
        "    return x + y\n",
        "\n",
        "  def subtract(x, y):\n",
        "    return x - y\n",
        "\n",
        "  def multiply(x, y):\n",
        "    return x * y\n",
        "\n",
        "  def divide(x, y):\n",
        "    return x / y\n",
        "\n",
        "\n",
        "  print(\"Select operation.\")\n",
        "  print(\"1.Add\")\n",
        "  print(\"2.Subtract\")\n",
        "  print(\"3.Multiply\")\n",
        "  print(\"4.Divide\")\n",
        "\n",
        "  while True:\n",
        "    choice = input(\"Enter choice(1/2/3/4): \")\n",
        "\n",
        "    if choice in ('1', '2', '3', '4'):\n",
        "        num1 = float(input(\"Enter first number: \"))\n",
        "        num2 = float(input(\"Enter second number: \"))\n",
        "\n",
        "        if choice == '1':\n",
        "            print(num1, \"+\", num2, \"=\", add(num1, num2))\n",
        "\n",
        "        elif choice == '2':\n",
        "            print(num1, \"-\", num2, \"=\", subtract(num1, num2))\n",
        "\n",
        "        elif choice == '3':\n",
        "            print(num1, \"*\", num2, \"=\", multiply(num1, num2))\n",
        "\n",
        "        elif choice == '4':\n",
        "            print(num1, \"/\", num2, \"=\", divide(num1, num2))\n",
        "        \n",
        "        next_calculation = input(\"Let's do next calculation. (yes/no): \")\n",
        "        if next_calculation == \"no\":\n",
        "          break\n",
        "    \n",
        "    else:\n",
        "        print(\"Invalid Input\")"
      ],
      "metadata": {
        "colab": {
          "base_uri": "https://localhost:8080/"
        },
        "id": "v_qL4ysJGCWS",
        "outputId": "e836bb77-a301-4641-de86-18ea93bb0274"
      },
      "execution_count": 2,
      "outputs": [
        {
          "name": "stdout",
          "output_type": "stream",
          "text": [
            "Select operation.\n",
            "1.Add\n",
            "2.Subtract\n",
            "3.Multiply\n",
            "4.Divide\n",
            "Enter choice(1/2/3/4): 1\n",
            "Enter first number: 4\n",
            "Enter second number: 5\n",
            "4.0 + 5.0 = 9.0\n",
            "Let's do next calculation. (yes/no): no\n"
          ]
        }
      ]
    },
    {
      "cell_type": "code",
      "source": [],
      "metadata": {
        "id": "Enps3fACOU8b"
      },
      "execution_count": null,
      "outputs": []
    },
    {
      "cell_type": "markdown",
      "source": [
        "#3: Implement the Complete Student Class"
      ],
      "metadata": {
        "id": "AepaeTdVPRHT"
      }
    },
    {
      "cell_type": "code",
      "source": [
        "class Student:\n",
        "  def __init__(self, setName, getName):\n",
        "    self.setName = setName\n",
        "    self.getName = getName \n",
        "  def setRollNumber(self,RollNumber):\n",
        "    self.setRollNumber = RollNumber\n",
        "  def getRollNumber(self,RollNumber):\n",
        "    self.getRollNumber = RollNumber\n",
        "  def display(self):\n",
        "    print('setName: '+ self.setName)\n",
        "    print('getName: '+ str(self.getName))\n",
        "    print('setRollNumber: '+ str(self.setRollNumber))\n",
        "    print('getRollNumber: '+ str(self.getRollNumber))\n",
        "student_one = Student('Rohit','Rohit')\n",
        "student_one.setRollNumber(21)\n",
        "student_one.getRollNumber(23)\n",
        "student_one.display()"
      ],
      "metadata": {
        "colab": {
          "base_uri": "https://localhost:8080/"
        },
        "id": "AJWI9EaqGCdf",
        "outputId": "6a9ae426-7b41-46a1-aeb0-2635bc8ece64"
      },
      "execution_count": 17,
      "outputs": [
        {
          "output_type": "stream",
          "name": "stdout",
          "text": [
            "setName: Rohit\n",
            "getName: Rohit\n",
            "setRollNumber: 21\n",
            "getRollNumber: 23\n"
          ]
        }
      ]
    },
    {
      "cell_type": "code",
      "source": [],
      "metadata": {
        "id": "FQ8dbkLOGCjw"
      },
      "execution_count": null,
      "outputs": []
    },
    {
      "cell_type": "markdown",
      "source": [
        "#4: Implement a Banking Account"
      ],
      "metadata": {
        "id": "29GZq9NBPz5w"
      }
    },
    {
      "cell_type": "code",
      "source": [
        "class Account:\n",
        "\n",
        "\n",
        "\n",
        "    def __init__(self, title=None, balance=0):\n",
        "\n",
        "        self.__title = title\n",
        "\n",
        "        self.__balance = balance\n",
        "\n",
        "\n",
        "\n",
        "    def getBalance(self):\n",
        "\n",
        "        return self.__balance\n",
        "\n",
        "\n",
        "\n",
        "    def deposit(self, amount):\n",
        "\n",
        "        self.__balance += amount\n",
        "\n",
        "\n",
        "\n",
        "    def withdrawal(self, amount):\n",
        "\n",
        "        self.__balance -= amount\n",
        "\n",
        "\n",
        "\n",
        "class SavingsAccount(Account):\n",
        "\n",
        "\n",
        "\n",
        "    def __init__(self, title=None, balance=0, interestRate=0):\n",
        "\n",
        "        super().__init__(title, balance)\n",
        "\n",
        "        self.interestRate = interestRate\n",
        "\n",
        "\n",
        "\n",
        "    def interestAmount(self):\n",
        "\n",
        "        return (self.interestRate * self.getBalance()) / 100\n",
        "\n",
        "a = SavingsAccount( \"Ashish\" , 5000 , 5 ) \n",
        "\n",
        "a.interestAmount()"
      ],
      "metadata": {
        "colab": {
          "base_uri": "https://localhost:8080/"
        },
        "id": "SVfbaTAiFsWa",
        "outputId": "700b7df6-55fb-4fae-8c76-22f28065164b"
      },
      "execution_count": 42,
      "outputs": [
        {
          "output_type": "execute_result",
          "data": {
            "text/plain": [
              "250.0"
            ]
          },
          "metadata": {},
          "execution_count": 42
        }
      ]
    },
    {
      "cell_type": "markdown",
      "source": [
        "# 5: Handling a Bank Account"
      ],
      "metadata": {
        "id": "5IwGSTFQP4BR"
      }
    },
    {
      "cell_type": "code",
      "source": [
        "class Account:\n",
        "\n",
        "\n",
        "\n",
        "  def __init__(self,title = None,balance=0):\n",
        "\n",
        "    self.title = title\n",
        "\n",
        "    self.balance = balance\n",
        "\n",
        "    print(\"Hello!!! Welcome to the Deposit & Withdrawal Machine\")\n",
        "\n",
        "\n",
        "\n",
        "  def deposit(self):\n",
        "\n",
        "    amount=float(input(\"Enter amount to be Deposited: \"))\n",
        "\n",
        "    self.balance += amount\n",
        "\n",
        "    print(\"\\n Amount Deposited:\",amount)\n",
        "\n",
        "\n",
        "\n",
        "  def withdraw(self):\n",
        "\n",
        "    amount = float(input(\"Enter amount to be Withdrawn: \"))\n",
        "\n",
        "\n",
        "\n",
        "    if self.balance >= amount:\n",
        "\n",
        "      self.balance -= amount\n",
        "\n",
        "      print(\"\\n You Withdrew:\", amount)\n",
        "\n",
        "    else:\n",
        "\n",
        "      print(\"\\n Insufficient balance \")\n",
        "\n",
        "\n",
        "\n",
        "  def getBalance(self):\n",
        "\n",
        "    print(\"\\n Net Available Balance=\",self.balance)\n",
        "\n",
        "\n",
        "\n",
        "class SavingsAccount(Account):\n",
        "\n",
        "    def __init__(self, title=None, balance=0, interestRate=0):\n",
        "\n",
        "        super().__init__(title, balance)\n",
        "\n",
        "        self.interestRate = interestRate\n",
        "\n",
        "\n",
        "\n",
        "    def interestAmount(self):\n",
        "\n",
        "      return ((self.balance*self.interestRate)/100)\n",
        "#testcase1:\n",
        "s = Account(\"rohit\",2000)\n",
        "s.deposit()\n",
        "s.getBalance()\n",
        "\n",
        "\n",
        "\n",
        "#testcase2:\n",
        "s = Account(\"rohit\",2000)\n",
        "s.withdraw()\n",
        "s.getBalance()\n",
        "\n",
        "\n",
        "\n",
        "#testcase3:\n",
        "a = SavingsAccount(\"rohit\",2000,5)\n",
        "a.interestAmount()  "
      ],
      "metadata": {
        "colab": {
          "base_uri": "https://localhost:8080/"
        },
        "id": "qZh197TeFsZv",
        "outputId": "06a62810-d487-494a-c294-8c5997012c6b"
      },
      "execution_count": 47,
      "outputs": [
        {
          "output_type": "stream",
          "name": "stdout",
          "text": [
            "Hello!!! Welcome to the Deposit & Withdrawal Machine\n",
            "Enter amount to be Deposited: 500\n",
            "\n",
            " Amount Deposited: 500.0\n",
            "\n",
            " Net Available Balance= 2500.0\n",
            "Hello!!! Welcome to the Deposit & Withdrawal Machine\n",
            "Enter amount to be Withdrawn: 500\n",
            "\n",
            " You Withdrew: 500.0\n",
            "\n",
            " Net Available Balance= 1500.0\n",
            "Hello!!! Welcome to the Deposit & Withdrawal Machine\n"
          ]
        },
        {
          "output_type": "execute_result",
          "data": {
            "text/plain": [
              "100.0"
            ]
          },
          "metadata": {},
          "execution_count": 47
        }
      ]
    }
  ]
}